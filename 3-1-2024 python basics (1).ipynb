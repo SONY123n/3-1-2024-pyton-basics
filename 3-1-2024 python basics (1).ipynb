{
 "cells": [
  {
   "cell_type": "code",
   "execution_count": 34,
   "id": "86cf4223-f0fb-4445-b437-ed424a2601ce",
   "metadata": {},
   "outputs": [
    {
     "name": "stdin",
     "output_type": "stream",
     "text": [
      "enter a number x: 87\n",
      "enter a number y: 65\n"
     ]
    },
    {
     "name": "stdout",
     "output_type": "stream",
     "text": [
      "after swapping x= 65\n",
      "after swapping y= 87\n"
     ]
    }
   ],
   "source": [
    "#swap the variables without using any temporary variable\n",
    "#step1: int function is used to convert a value of integer to data type,input function is used to take the input from the user\n",
    "x=int(input(\"enter a number x:\"))\n",
    "y=int(input(\"enter a number y:\"))\n",
    "#step2:bitwise XOR operator (^) is used to swap the variables\n",
    "x=x^y\n",
    "y=x^y\n",
    "x=x^y\n",
    "#step3:print function is used to print the output\n",
    "print(\"after swapping x=\",x)\n",
    "print(\"after swapping y=\",y)\n",
    "#when we run the code ,we'ii see that the values of x and y have been swapped by using bitewise operator"
   ]
  },
  {
   "cell_type": "code",
   "execution_count": 35,
   "id": "ab258e32-25a5-48c5-85a0-0eee67adc664",
   "metadata": {},
   "outputs": [
    {
     "name": "stdin",
     "output_type": "stream",
     "text": [
      "enter the value of lenght 45\n",
      "enter the value of width 32\n"
     ]
    },
    {
     "name": "stdout",
     "output_type": "stream",
     "text": [
      "the area of rectangle is  1440\n"
     ]
    }
   ],
   "source": [
    "#to calculate the area of rectangle\n",
    "#step1: int function used to convert the integer to data type,input function used to get the input from the user\n",
    "lenght=int(input(\"enter the value of lenght\"))\n",
    "width=int(input(\"enter the value of width\"))\n",
    "area=lenght*width\n",
    "#step2:print function is used print the output\n",
    "print(\"the area of rectangle is \",area)\n",
    "#when we run the code multiplication takes place then we get the output"
   ]
  },
  {
   "cell_type": "code",
   "execution_count": 7,
   "id": "ec31cc23-e9c5-44f3-a285-a4c08e501155",
   "metadata": {},
   "outputs": [
    {
     "name": "stdin",
     "output_type": "stream",
     "text": [
      "enter the value of celsius 25\n"
     ]
    },
    {
     "name": "stdout",
     "output_type": "stream",
     "text": [
      "the value of fahrenheit 77.0\n"
     ]
    }
   ],
   "source": [
    "#to convert the temperatures from celsius to fahrenheit\n",
    "#step1:int function used to convert the integer to data type,input function is used to take the input from thr user\n",
    "celsius=int(input(\"enter the value of celsius\"))\n",
    "#step2:by using the formula fahrenheit\n",
    "fahrenheit=(celsius*9/5)+32\n",
    "#step3:use the print function to get the value of fahrenheit\n",
    "print(\"the value of fahrenheit\",fahrenheit)\n",
    "#when we run the out put we'll see the temperature which converts from celsius to fahrenheit\n"
   ]
  },
  {
   "cell_type": "code",
   "execution_count": 8,
   "id": "e8bec03d-b650-414e-be30-e68fe2c82640",
   "metadata": {},
   "outputs": [
    {
     "data": {
      "text/plain": [
       "7"
      ]
     },
     "execution_count": 8,
     "metadata": {},
     "output_type": "execute_result"
    }
   ],
   "source": [
    "#to print the lenght of the string\n",
    "#step1:the value of the string is obtained from the user\n",
    "s=1,23,4,5.45,\"sony\",\"naresh\",'pwskills'\n",
    "#step2:len is a character which is used gives the lenght of th string\n",
    "len(s)\n",
    "#when we run ,we'll get to know the lenght of the string"
   ]
  },
  {
   "cell_type": "code",
   "execution_count": 33,
   "id": "10cf212a-7e69-48ef-8318-5e0e01e857b2",
   "metadata": {},
   "outputs": [
    {
     "name": "stdout",
     "output_type": "stream",
     "text": [
      "5\n"
     ]
    }
   ],
   "source": [
    "#to count number of vowels in the string\n",
    "#step1:take the value of string from the user\n",
    "string=\"sonyjarupula\"\n",
    "#step2:enter the vowels\n",
    "vowels=\"aeiou\"\n",
    "count=0\n",
    "#step3:convert the string into lowercase using the lower() function,and checjs if it exixtx in the vowels string,if it does ,we increment the count variable by 1\n",
    "for char in string:\n",
    "    if char.lower()in vowels:\n",
    "        count+=1\n",
    "#step4:print function is used to print the output\n",
    "print(count)\n"
   ]
  },
  {
   "cell_type": "code",
   "execution_count": 31,
   "id": "9bce7e0e-b190-4002-ba28-b07a1b7386c0",
   "metadata": {},
   "outputs": [
    {
     "name": "stdout",
     "output_type": "stream",
     "text": [
      "alupurajynos\n"
     ]
    }
   ],
   "source": [
    "#reverse the order of characters using string slicing and to print thr reversed string\n",
    "#step1:take the inputstring from the user\n",
    "string=\"sonyjarupula\"\n",
    "#step2:by using the slicing syntax[::-1],we can create a new string that starts from the last charactervand goes backwards until the first character\n",
    "reversed_string=string[::-1]\n",
    "#step3:print function is used to print the output\n",
    "print(reversed_string)\n"
   ]
  },
  {
   "cell_type": "code",
   "execution_count": 32,
   "id": "c7c380af-8c73-46a5-9325-97eb32e72cf3",
   "metadata": {},
   "outputs": [
    {
     "name": "stdout",
     "output_type": "stream",
     "text": [
      "No\n"
     ]
    }
   ],
   "source": [
    "#to check if the given string is a palindrome or not\n",
    "#step1:palindrome is function which reads the same backwards as forwards\n",
    "def isPalindrome(s):\n",
    "\treturn s == s[::-1]\n",
    "\n",
    "#step2:enter the input\n",
    "# Driver code\n",
    "s = \"pwskills\"\n",
    "ans = isPalindrome(s)\n",
    "#step3:if condition is used to check whether the function is palindrome or not\n",
    "if ans:\n",
    "\tprint(\"Yes\")\n",
    "#step4:else function is used when the if condition is false\n",
    "else:\n",
    "\tprint(\"No\")\n",
    "#in this code,we frist created a reversedversion of the string using slicing([::-1]).then ,we compare the original string with the reversed string"
   ]
  },
  {
   "cell_type": "code",
   "execution_count": 30,
   "id": "260d15ee-7055-4113-96ef-751b866d2953",
   "metadata": {},
   "outputs": [
    {
     "name": "stdout",
     "output_type": "stream",
     "text": [
      "sonyjarupula\n"
     ]
    }
   ],
   "source": [
    "#remove all the spaces from the input to get modified string without space\n",
    "#step1:take the string from the user\n",
    "string=\"so ny jaru pula\"\n",
    "#step2:replace function used to remove the space from in the given input string\n",
    "modified_string=string.replace(\" \",\"\")\n",
    "#step3:print function is used to print the output\n",
    "print(modified_string)\n",
    "#this code uses the \"replace()\" function to replace all occurrences of a space (\"\") with an empty string(\"\")"
   ]
  },
  {
   "cell_type": "code",
   "execution_count": null,
   "id": "520273de-e790-4547-accd-bdd8f0bfd621",
   "metadata": {},
   "outputs": [],
   "source": []
  }
 ],
 "metadata": {
  "kernelspec": {
   "display_name": "Python 3 (ipykernel)",
   "language": "python",
   "name": "python3"
  },
  "language_info": {
   "codemirror_mode": {
    "name": "ipython",
    "version": 3
   },
   "file_extension": ".py",
   "mimetype": "text/x-python",
   "name": "python",
   "nbconvert_exporter": "python",
   "pygments_lexer": "ipython3",
   "version": "3.10.8"
  }
 },
 "nbformat": 4,
 "nbformat_minor": 5
}
